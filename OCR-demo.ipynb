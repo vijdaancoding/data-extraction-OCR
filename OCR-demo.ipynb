{
 "cells": [
  {
   "cell_type": "code",
   "execution_count": 1,
   "metadata": {},
   "outputs": [],
   "source": [
    "import unstructured\n",
    "from unstructured.partition.pdf import partition_pdf"
   ]
  },
  {
   "cell_type": "code",
   "execution_count": 2,
   "metadata": {},
   "outputs": [
    {
     "name": "stderr",
     "output_type": "stream",
     "text": [
      "Some weights of the model checkpoint at microsoft/table-transformer-structure-recognition were not used when initializing TableTransformerForObjectDetection: ['model.backbone.conv_encoder.model.layer2.0.downsample.1.num_batches_tracked', 'model.backbone.conv_encoder.model.layer3.0.downsample.1.num_batches_tracked', 'model.backbone.conv_encoder.model.layer4.0.downsample.1.num_batches_tracked']\n",
      "- This IS expected if you are initializing TableTransformerForObjectDetection from the checkpoint of a model trained on another task or with another architecture (e.g. initializing a BertForSequenceClassification model from a BertForPreTraining model).\n",
      "- This IS NOT expected if you are initializing TableTransformerForObjectDetection from the checkpoint of a model that you expect to be exactly identical (initializing a BertForSequenceClassification model from a BertForSequenceClassification model).\n"
     ]
    },
    {
     "name": "stdout",
     "output_type": "stream",
     "text": [
      "                        PARTNER PORTAL   USER  GUIDE   DEMATIC SPECIFC ORDER PROCESSING    \n",
      "\n",
      "Philip Lam  WHALE LOGISTICS | SUITE 4, 49-51 ETON ST, SUTHERLAND, NSW, 2232  \n",
      "WHALE PARTNER PORTAL USER GUIDE\n",
      "WHALE LOGISTICS\n",
      "Contents OVERVIEW ................................................................................................................................................. 2\n",
      "Contents OVERVIEW ..0... ee eecccececccsseeseeeceeeceneesseeceseeceaeeesaecesueceaeeceaeeseeeesaeceaeeseaecesuecsaeeceaeeseaesesaecsaeeseeeceaeeeeaeeeeeseaeee 2 1. Additional Information on Dematic Orders ..............cccesceceeseseeeeeeeseeseeeeseeaeeeceesaeeeesesseeaeeeseeeseeeeesaeee 3\n",
      "1. Additional Information on Dematic Orders ..................................................................................... 3\n",
      "This document and any files attached with it are confidential and intended solely for the use of the intended recipient(s) only. The recipient is not to disclose or distribute this document to any party without the author's prior permission.\n",
      "1\n",
      "e g a P\n",
      "WHALE PARTNER PORTAL USER GUIDE\n",
      "WHALE < LOWES TGs\n",
      "OVERVIEW\n",
      "Dematic include specific and additional information on their orders to assist them identifying, viewing, and relating back to their internal systems and processes.\n",
      "This document highlights the additional information provided by Dematic and where it is to be captured within Expedient which in turn drives:\n",
      "Information visible on Partner Portal - Specific reports generated for Dematic.\n",
      "The additional information captured are:\n",
      "Dematic Project Number - Dematic Project Name - Requisitioner.\n",
      "This document and any files attached with it are confidential and intended solely for the use of the intended recipient(s) only. The recipient is not to disclose or distribute this document to any party without the author's prior permission.\n",
      "2\n",
      "paged\n",
      "e g a P\n",
      "WHALE PARTNER PORTAL USER GUIDE\n",
      "WHALE LOWES TGs\n",
      "1. Additional Information on Dematic Orders\n",
      "a) Below is a sample of a Dematic purchase order.\n",
      "The additional information required to be captured in Expedient are as follows:\n",
      "1. Dematic Project Number 2. Requisitioner 3. Dematic Project Name\n",
      "3   2   1  \n",
      "This document and any files attached with it are confidential and intended solely for the use of the intended recipient(s) only. The recipient is not to disclose or distribute this document to any party without the author's prior permission.\n",
      "3\n",
      "paged\n",
      "e g a P\n",
      "WHALE PARTNER PORTAL USER GUIDE\n",
      "WHALE LOGISTICS\n",
      "b) Process the order like normal and once complete you will need to capture the additional information as listed above.\n",
      "Go to the “Additional Information” section on the order and complete the following fields:\n",
      "Expedient Field Name\n",
      "Dematic Purchase order information.\n",
      "1 Vendor Order No Dematic Project Number\n",
      "2 Vendor Invoice Requisitioner\n",
      "3 Agent Order No Dematic Project Name\n",
      "(NB: Agent order no has a limited number of characters. There may be times that the whole Dematic Project Name won’t fit, just populate as much information as possible as it will still provide enough information for Dematic to match back to their system).\n",
      "1   2   3  \n",
      "It is critical that the information is completed as per the Dematic purchase order especially the Vendor Invoice No – Requisitioner. This filed is linked to reports that are set up for Dematic and the spelling must remain the same for requisitioner to requisitioner, order to order for the report to work. Any variance in the spelling or additional symbols will affect the reports.\n",
      "This document and any files attached with it are confidential and intended solely for the use of the intended recipient(s) only. The recipient is not to disclose or distribute this document to any party without the author's prior permission.\n",
      "4\n",
      "paged\n",
      "e g a P\n"
     ]
    }
   ],
   "source": [
    "pdf_path = r'C:/Ali Vijdaan/OCR/data-extraction-OCR/sample data/EXP User Guide - Dematic Specific Order Processing.pdf'\n",
    "output_dir = \"images\"\n",
    "# Partition the PDF\n",
    "elements = partition_pdf(filename=pdf_path,\n",
    "                         strategy='hi_res',\n",
    "                         infer_table_structure=True, \n",
    "                         extract_images_in_pdf=True, \n",
    "                         extract_image_block_output_dir=output_dir)\n",
    "\n",
    "# Print the extracted elements\n",
    "for element in elements:\n",
    "    print(element)"
   ]
  },
  {
   "cell_type": "code",
   "execution_count": 8,
   "metadata": {},
   "outputs": [],
   "source": [
    "from unstructured.staging.base import elements_to_json\n",
    "\n",
    "elements_to_json(elements, filename=f\"{output_dir}/EXP User Guide - Dematic Specific Order Processing.json\")"
   ]
  },
  {
   "cell_type": "code",
   "execution_count": 12,
   "metadata": {},
   "outputs": [
    {
     "name": "stdout",
     "output_type": "stream",
     "text": [
      "\n"
     ]
    }
   ],
   "source": [
    "print(elements[1])"
   ]
  },
  {
   "cell_type": "markdown",
   "metadata": {},
   "source": []
  }
 ],
 "metadata": {
  "kernelspec": {
   "display_name": "Python 3",
   "language": "python",
   "name": "python3"
  },
  "language_info": {
   "codemirror_mode": {
    "name": "ipython",
    "version": 3
   },
   "file_extension": ".py",
   "mimetype": "text/x-python",
   "name": "python",
   "nbconvert_exporter": "python",
   "pygments_lexer": "ipython3",
   "version": "3.11.3"
  }
 },
 "nbformat": 4,
 "nbformat_minor": 2
}
